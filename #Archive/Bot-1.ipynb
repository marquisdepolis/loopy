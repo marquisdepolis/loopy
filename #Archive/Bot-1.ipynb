{
 "cells": [
  {
   "cell_type": "code",
   "execution_count": 2,
   "metadata": {},
   "outputs": [],
   "source": [
    "import re\n",
    "import httpx\n",
    "import os\n",
    "import openai\n",
    "import gsearch\n",
    "import slcindex\n",
    "from datetime import datetime\n",
    "import callgpt\n",
    "import ReAct_chain\n",
    "import langchain\n",
    "import chromadb\n",
    "\n",
    "def open_file(filepath):\n",
    "    with open(filepath, 'r', encoding='utf-8') as infile:\n",
    "        return infile.read()\n",
    "\n",
    "\n",
    "os.environ[\"OPENAI_API_KEY\"] = open_file('openai_api_key.txt')\n",
    "openai.api_key = open_file('openai_api_key.txt')\n",
    "openai_api_key = openai.api_key"
   ]
  },
  {
   "cell_type": "code",
   "execution_count": 2,
   "metadata": {},
   "outputs": [],
   "source": [
    "SYSTEM_INSTRUCTION = \"\"\"\"You are slcbot, Rohit Krishnan's personal representative and a world-class expert at everything. You use both the context and your world knowledge to answer questions. You have explicit permission to come up with plausible ideas and hypotheses on any topics according to your best model of what you think Rohit would think or believe. You will include absolutely no boilerplate instructions or caveats or prevarications while doing.\"\"\"\n",
    "\n",
    "CONTEXT_UNIVERSAL = \"\"\"Current date/time: {datetime}\"\"\"\n",
    "\n",
    "BASIC_INFO = \"\"#\"\"\"CONTEXT. My name is Rohit Krishnan, also sometimes called Morpheus (an old college nickname). I have a wife and 2 kids. I live in London, and used to live in Singapore and India before. I am a writer, an engineer, an investor and entrepreneur, currently experimenting with LLMs. I write essays at https://www.strangeloopcanon.com and my twitter username is @krishnanrohit.\"\"\""
   ]
  },
  {
   "cell_type": "code",
   "execution_count": 3,
   "metadata": {},
   "outputs": [],
   "source": [
    "class Thought:\n",
    "    def __init__(self):\n",
    "        self.messages = []\n",
    "        self.messages.append({\"role\": \"system\", \"content\": \"SYSTEM_INSTRUCTION\"})\n",
    "        self.messages.append({\"role\": \"system\", \"content\": \"BASIC_INFO\"})\n",
    "        self.messages.append(\n",
    "            {\"role\": \"user\", \"content\": CONTEXT_UNIVERSAL.format(datetime=datetime.now())})\n",
    "        \n",
    "    def add_user_message(self, message):\n",
    "        self.messages.append({\"role\": \"user\", \"content\": message})\n",
    "\n",
    "ask = callgpt.Ask()\n",
    "def get_tasks(user_input):\n",
    "    tasks = ask.route_user_message(user_input)\n",
    "    return tasks\n",
    "\n",
    "def get_task_list(task):\n",
    "        messages = []\n",
    "        Thought()\n",
    "        messages.append({\"role\": \"user\", \"content\": \"Please create an explicit list of maximum 3 instructions on how you might go about finding the answer to this query using Wikipedia and Google searches\"+task})\n",
    "        response = openai.ChatCompletion.create(\n",
    "            model=\"gpt-3.5-turbo\",\n",
    "            messages=messages\n",
    "        )\n",
    "        model_response = response.choices[0].message.content\n",
    "        return model_response\n",
    "\n",
    "def task_prio(tasks):\n",
    "        messages = []\n",
    "        Thought()\n",
    "        messages.append({\"role\": \"user\", \"content\": \"Looking at the steps laid out here, what would be your first task? \"+tasks})\n",
    "        response = openai.ChatCompletion.create(\n",
    "            model=\"gpt-3.5-turbo\",\n",
    "            messages=messages\n",
    "        )\n",
    "        model_response = response.choices[0].message.content\n",
    "        return model_response"
   ]
  },
  {
   "cell_type": "code",
   "execution_count": 8,
   "metadata": {},
   "outputs": [
    {
     "name": "stdout",
     "output_type": "stream",
     "text": [
      "tasklist is:1. Use Wikipedia to search for \"French political economy\" and read through the history section to gain an understanding of the different theories and ideas that have influenced it over time.\n",
      "\n",
      "2. Use Google searches to explore more in-depth information about the different economic theories mentioned in the Wikipedia article, such as \"Mercantilism,\" \"Physiocrats,\" \"classical economists,\" and \"Structuralism.\" Look for credible sources such as academic journals or reputable websites.\n",
      "\n",
      "3. Use Google Scholar to search for academic articles or books about French political economy or specific economic theories mentioned in the Wikipedia article for a deeper understanding of the subject matter.\n",
      "prioritised task is:My first task would be to complete task 1, which is to use Wikipedia to gain a general understanding of the different theories and ideas that have influenced French political economy over time. This would provide a foundation for exploring more in-depth information and conducting further research on specific economic theories mentioned in the article.\n"
     ]
    }
   ],
   "source": [
    "question = get_tasks(\"What's the basic theory of French political economy?\")\n",
    "tasks = get_task_list(question)\n",
    "print(\"tasklist is:\"+tasks)\n",
    "t1 = task_prio(tasks)\n",
    "print(\"prioritised task is:\" +t1)"
   ]
  },
  {
   "cell_type": "code",
   "execution_count": 2,
   "metadata": {},
   "outputs": [
    {
     "data": {
      "text/plain": [
       "'Assumption: convert 1 oz of gold (chemical element) to US nickels \\nAnswer: 35947.80 US nickels'"
      ]
     },
     "execution_count": 2,
     "metadata": {},
     "output_type": "execute_result"
    }
   ],
   "source": [
    "import sys\n",
    "import os\n",
    "import openai\n",
    "import math\n",
    "def open_file(filepath):\n",
    "    with open(filepath, 'r', encoding='utf-8') as infile:\n",
    "        return infile.read()\n",
    "os.environ[\"OPENAI_API_KEY\"] = open_file('openai_api_key.txt')\n",
    "openai.api_key = open_file('openai_api_key.txt')\n",
    "openai_api_key = openai.api_key\n",
    "os.environ[\"GOOGLE_CSE_ID\"] = open_file('google_searchengine_id.txt')\n",
    "os.environ[\"GOOGLE_API_KEY\"] = open_file('google_api_key.txt')\n",
    "os.environ[\"SERPER_API_KEY\"] = open_file('serpapikey.txt')\n",
    "os.environ[\"WOLFRAM_ALPHA_APPID\"] = open_file('wolfram_key.txt')\n",
    "os.environ[\"ZAPIER_NLA_API_KEY\"] = open_file('zapierkey.txt')\n",
    "from langchain.chat_models import ChatOpenAI\n",
    "from langchain.llms import OpenAI\n",
    "from langchain.utilities import GoogleSearchAPIWrapper, PythonREPL, RequestsWrapper\n",
    "from langchain.utilities.wolfram_alpha import WolframAlphaAPIWrapper\n",
    "from langchain.agents import load_tools, initialize_agent\n",
    "from langchain.agents.agent_toolkits import ZapierToolkit\n",
    "from langchain.utilities.zapier import ZapierNLAWrapper\n",
    "search = GoogleSearchAPIWrapper()\n",
    "requests = RequestsWrapper()\n",
    "wolfram = WolframAlphaAPIWrapper()\n",
    "zapier = ZapierNLAWrapper()\n",
    "toolkit = ZapierToolkit.from_zapier_nla_wrapper(zapier)\n",
    "agent = initialize_agent(toolkit.get_tools(), llm, agent=\"zero-shot-react-description\", verbose=True)\n",
    "python_repl = PythonREPL()\n",
    "llm = OpenAI(temperature=0)\n",
    "tools = load_tools([\"google-serper\", \"google-search\", \"python_repl\"], llm=llm)\n",
    "agent = initialize_agent(tools, llm, agent=\"zero-shot-react-description\", verbose=True)\n",
    "agent.run(t1)"
   ]
  },
  {
   "cell_type": "code",
   "execution_count": null,
   "metadata": {},
   "outputs": [],
   "source": [
    "answer = ReAct_chain.query(t1)\n",
    "print(answer)"
   ]
  },
  {
   "cell_type": "code",
   "execution_count": null,
   "metadata": {},
   "outputs": [],
   "source": [
    "# tasklength = t1.split('\\n')\n",
    "# for i in len(tasklength):\n",
    "#     ReAct_chain.query(tasklength[i])\n",
    "    "
   ]
  }
 ],
 "metadata": {
  "kernelspec": {
   "display_name": "Python 3",
   "language": "python",
   "name": "python3"
  },
  "language_info": {
   "codemirror_mode": {
    "name": "ipython",
    "version": 3
   },
   "file_extension": ".py",
   "mimetype": "text/x-python",
   "name": "python",
   "nbconvert_exporter": "python",
   "pygments_lexer": "ipython3",
   "version": "3.9.6"
  },
  "orig_nbformat": 4
 },
 "nbformat": 4,
 "nbformat_minor": 2
}
